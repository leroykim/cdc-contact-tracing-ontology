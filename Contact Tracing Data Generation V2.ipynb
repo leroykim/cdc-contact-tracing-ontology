{
 "cells": [
  {
   "cell_type": "markdown",
   "id": "9f38653a",
   "metadata": {},
   "source": [
    "# Check list"
   ]
  },
  {
   "cell_type": "markdown",
   "id": "c3c5874a",
   "metadata": {},
   "source": [
    "- DataElements\n",
    "    - ~ContactTracing~\n",
    "    - ~Interview~\n",
    "    - ~LocatingInformation~\n",
    "    - ~PreExistingConditions~\n",
    "    - ~RiskFactors~\n",
    "    - ~SARCoV2Test~\n",
    "    - ~SymptomsAndClinicalCourse~\n",
    "    - ~Connection to investigation~\n",
    "- ~Patient~\n",
    "- Investigator"
   ]
  },
  {
   "cell_type": "markdown",
   "id": "999be6c4",
   "metadata": {},
   "source": [
    "# Initial Settings"
   ]
  },
  {
   "cell_type": "code",
   "execution_count": 1,
   "id": "19ed05f5",
   "metadata": {},
   "outputs": [],
   "source": [
    "from lxml import etree\n",
    "import random\n",
    "import copy\n",
    "from datetime import datetime, timedelta\n",
    "import pytz\n",
    "from faker import Faker\n",
    "from tqdm import trange\n",
    "import gc"
   ]
  },
  {
   "cell_type": "code",
   "execution_count": 2,
   "id": "aa5271f7",
   "metadata": {},
   "outputs": [],
   "source": [
    "# https://stackoverflow.com/questions/25991860/unable-to-pass-an-lxml-etree-object-to-a-separate-process\n",
    "import copyreg\n",
    "from io import StringIO\n",
    "\n",
    "def element_unpickler(data):\n",
    "    return etree.fromstring(data)\n",
    "\n",
    "def element_pickler(element):\n",
    "    data = etree.tostring(element)\n",
    "    return element_unpickler, (data,)\n",
    "\n",
    "copyreg.pickle(etree._Element, element_pickler, element_unpickler)\n",
    "\n",
    "def elementtree_unpickler(data):\n",
    "    data = StringIO(data)\n",
    "    return etree.parse(data)\n",
    "\n",
    "def elementtree_pickler(tree):\n",
    "    data = StringIO()\n",
    "    tree.write(data)\n",
    "    return elementtree_unpickler, (data.getvalue(),)\n",
    "\n",
    "copyreg.pickle(etree._ElementTree, elementtree_pickler, elementtree_unpickler)"
   ]
  },
  {
   "cell_type": "code",
   "execution_count": 3,
   "id": "93aea3ae",
   "metadata": {},
   "outputs": [],
   "source": [
    "NAME_SPACE = {\n",
    "    \"base\": \"https://ebiquity.umbc.edu/cdc-contact-tracing-data-elements#\",\n",
    "    \"owl\":\"http://www.w3.org/2002/07/owl#\",\n",
    "    \"rdf\": \"http://www.w3.org/1999/02/22-rdf-syntax-ns#\",\n",
    "    \"rdfs\": \"http://www.w3.org/2000/01/rdf-schema#\",\n",
    "    None: \"https://ebiquity.umbc.edu/cdc-contact-tracing-data-elements#\"\n",
    "}"
   ]
  },
  {
   "cell_type": "code",
   "execution_count": 4,
   "id": "0fc44244",
   "metadata": {},
   "outputs": [],
   "source": [
    "YNUR = ['Y', 'N', 'U', 'R']\n",
    "YNPR = ['Y', 'N', 'P', 'R']\n",
    "PNUE = ['Pos', 'Neg', 'Unk', 'Equi']\n",
    "YN = ['Y', 'N']\n",
    "CONGREGATE = [\"Corrections\", \"Dorm\", \"Group home\", \"Multi-family household\", \"Multi-generational household\"]\n",
    "EMPLOYED = [\"No-retired\", \"No-student\", \"No-unable to work\", \"No-unemployed\", \"Yes\"]\n",
    "HCP = [\"1stResponder\", \"AmbulatoryCare\", \"EMS\", \"Fire\", \"Hospice\", \"Hospital\", \"LawEnforcement\", \"LongTermCare\", \"UrgentCare\"]\n",
    "CONTACT = [\"DayCare\", \"Home\", \"Hospital/MedicalCare\", \"PlaceOfWorship\", \"RetailSetting\", \"School\", \"Shelter\", \"Travel/Transit\", \n",
    "           \"Workplace\"]\n",
    "ETHNICITY = [\"HispanicOrLatino\", \"NotHispanicOrLatino\"]\n",
    "GENDER = [\"Female\", \"Male\", \"Other_Gender\", \"Unknown_Gender\"]\n",
    "LANGUAGE = [\"Bengali\" , \"Chinese\" , \"English\" , \"French\" , \"German\" , \"Hindi\" , \"Italian\" , \"Korean\" , \"Portuguese\" , \"Spanish\"]\n",
    "RACE = [\"AlaskaNative\" , \"AmericanIndian\" , \"Asian\" , \"BlackOrAfricanAmerian\" , \"NativeHawaiianOrOtherPacificIslander\" , \"White\"]"
   ]
  },
  {
   "cell_type": "markdown",
   "id": "17283fec",
   "metadata": {},
   "source": [
    "# Data Generation"
   ]
  },
  {
   "cell_type": "markdown",
   "id": "acbe3433",
   "metadata": {},
   "source": [
    "## General Method"
   ]
  },
  {
   "cell_type": "code",
   "execution_count": 5,
   "id": "b791eb79",
   "metadata": {},
   "outputs": [],
   "source": [
    "def create_individual (root, name, class_name):\n",
    "    individual = etree.SubElement(root, \"{%s}NamedIndividual\" %NAME_SPACE[\"owl\"])\n",
    "    individual.set(\"{%s}about\" %NAME_SPACE[\"rdf\"], f\"{NAME_SPACE['base']}{name}\")\n",
    "    individual_type = etree.SubElement(individual, \"{%s}type\" %NAME_SPACE[\"rdf\"])\n",
    "    individual_type.set(\"{%s}resource\" %NAME_SPACE[\"rdf\"], f\"{NAME_SPACE['base']}{class_name}\")\n",
    "    return individual"
   ]
  },
  {
   "cell_type": "code",
   "execution_count": 6,
   "id": "6c59bf85",
   "metadata": {},
   "outputs": [],
   "source": [
    "def create_object_property(sub, name, obj=None, random_suffix = None, random_value = None):\n",
    "    object_property = etree.SubElement(sub, \"{%s}%s\" %(NAME_SPACE[None],name))\n",
    "    if obj and random_suffix:\n",
    "        object_property.set(\"{%s}resource\" %NAME_SPACE[\"rdf\"], f\"{NAME_SPACE['base']}{obj}_{random.choice(random_suffix)}\")\n",
    "    elif not obj and not random_suffix and random_value:\n",
    "        object_property.set(\"{%s}resource\" %NAME_SPACE[\"rdf\"], f\"{NAME_SPACE['base']}{random.choice(random_value)}\")\n",
    "    else:\n",
    "        object_property.set(\"{%s}resource\" %NAME_SPACE[\"rdf\"], f\"{NAME_SPACE['base']}{obj}\")"
   ]
  },
  {
   "cell_type": "code",
   "execution_count": 7,
   "id": "829ebf7a",
   "metadata": {},
   "outputs": [],
   "source": [
    "def create_data_property(sub, name, data_type, value = None, random_value = None):\n",
    "    data_property = etree.SubElement(sub, \"{%s}%s\" %(NAME_SPACE[None],name))\n",
    "    data_property.set(\"{%s}datatype\" %NAME_SPACE[\"rdf\"], data_type)\n",
    "    if value and not random_value:\n",
    "        data_property.text=str(value)\n",
    "    elif not value and random_value:\n",
    "        data_property.text=str(random.choice(random_value))"
   ]
  },
  {
   "cell_type": "code",
   "execution_count": 8,
   "id": "96f105b6",
   "metadata": {},
   "outputs": [],
   "source": [
    "def random_date_between(start, end):\n",
    "    start = start.astimezone().replace(microsecond=0)\n",
    "    end = end.astimezone().replace(microsecond=0)\n",
    "    delta = end - start\n",
    "    int_delta = (delta.days * 24 * 60 * 60) + delta.seconds\n",
    "    random_second = random.randrange(int_delta)\n",
    "    return start + timedelta(seconds=random_second)"
   ]
  },
  {
   "cell_type": "markdown",
   "id": "e7cd08b9",
   "metadata": {},
   "source": [
    "## DataElements > SymptomsAndClinicalCourse"
   ]
  },
  {
   "cell_type": "code",
   "execution_count": 9,
   "id": "f7cd518f",
   "metadata": {},
   "outputs": [],
   "source": [
    "def create_symptoms_and_clinical_course(root, id_):\n",
    "    symptoms = create_individual(root, f\"SymptomsAndClinicalCourse_{id_:07}\",\"SymptomsAndClinicalCourse\")\n",
    "    create_data_property(symptoms, \"AbdominalPain\", \"http://www.w3.org/2001/XMLSchema#string\", random_value=\"YNUR\")\n",
    "    create_data_property(symptoms, \"Chills\", \"http://www.w3.org/2001/XMLSchema#string\", random_value=\"YNUR\")\n",
    "    create_data_property(symptoms, \"Cough\", \"http://www.w3.org/2001/XMLSchema#string\", random_value=\"YNUR\")\n",
    "    create_data_property(symptoms, \"Death\", \"http://www.w3.org/2001/XMLSchema#string\", random_value=\"YNPR\")\n",
    "    create_data_property(symptoms, \"Diarrhea_GI\", \"http://www.w3.org/2001/XMLSchema#string\", random_value=\"YNUR\")\n",
    "    create_data_property(symptoms, \"ECMO\", \"http://www.w3.org/2001/XMLSchema#string\", random_value=\"YNPR\")\n",
    "    create_data_property(symptoms, \"Fatigue\", \"http://www.w3.org/2001/XMLSchema#string\", random_value=\"YNUR\")\n",
    "    create_data_property(symptoms, \"Fever\", \"http://www.w3.org/2001/XMLSchema#string\", random_value=\"YNUR\")\n",
    "    create_data_property(symptoms, \"Headache\", \"http://www.w3.org/2001/XMLSchema#string\", random_value=\"YNUR\")\n",
    "    create_data_property(symptoms, \"Hospitalized\", \"http://www.w3.org/2001/XMLSchema#string\", random_value=\"YNPR\")\n",
    "    create_data_property(symptoms, \"ICU\", \"http://www.w3.org/2001/XMLSchema#string\", random_value=\"YNPR\")\n",
    "    create_data_property(symptoms, \"LossOfSenseOfSmell\", \"http://www.w3.org/2001/XMLSchema#string\", random_value=\"YNUR\")\n",
    "    create_data_property(symptoms, \"LossOfSenseOfTaste\", \"http://www.w3.org/2001/XMLSchema#string\", random_value=\"YNUR\")\n",
    "    create_data_property(symptoms, \"Malaise\", \"http://www.w3.org/2001/XMLSchema#string\", random_value=\"YNUR\")\n",
    "    create_data_property(symptoms, \"MI\", \"http://www.w3.org/2001/XMLSchema#string\", random_value=\"YNPR\")\n",
    "    create_data_property(symptoms, \"MuscleAche\", \"http://www.w3.org/2001/XMLSchema#string\", random_value=\"YNUR\")\n",
    "    create_data_property(symptoms, \"NasalCongestion\", \"http://www.w3.org/2001/XMLSchema#string\", random_value=\"YNUR\")\n",
    "    create_data_property(symptoms, \"Pneumonia\", \"http://www.w3.org/2001/XMLSchema#string\", random_value=\"YNUR\")\n",
    "    create_data_property(symptoms, \"ShortnessOfBreath\", \"http://www.w3.org/2001/XMLSchema#string\", random_value=\"YNUR\")\n",
    "    create_data_property(symptoms, \"SoreThroat\", \"http://www.w3.org/2001/XMLSchema#string\", random_value=\"YNUR\")\n",
    "    create_data_property(symptoms, \"Stroke\", \"http://www.w3.org/2001/XMLSchema#string\", random_value=\"YNPR\")\n",
    "    create_data_property(symptoms, \"Vomiting\", \"http://www.w3.org/2001/XMLSchema#string\", random_value=\"YNUR\")\n",
    "\n",
    "    random_date = random_date_between(\n",
    "        datetime(2021,7,1,0,0,0, tzinfo=pytz.timezone('US/Eastern')), \n",
    "        datetime(2021,7,15,23,59,59,tzinfo=pytz.timezone('US/Eastern'))).isoformat()\n",
    "    create_data_property(symptoms, \"DateOfSymptomOnset\", \"http://www.w3.org/2001/XMLSchema#dateTime\", value=random_date)"
   ]
  },
  {
   "cell_type": "markdown",
   "id": "2943867b",
   "metadata": {},
   "source": [
    "## DataElements > SARSCoV2Test"
   ]
  },
  {
   "cell_type": "code",
   "execution_count": 10,
   "id": "f9c6a39c",
   "metadata": {},
   "outputs": [],
   "source": [
    "def create_sars_cov2_test(root, id_):\n",
    "    test = create_individual(root, f\"SARSCoV2Test_{id_:07}\",\"SARSCoV2Test\")\n",
    "    test_occurred = random.choice(YNUR)\n",
    "    create_data_property(test, \"SARSCoV2TestOccurred\", \"http://www.w3.org/2001/XMLSchema#string\", value=test_occurred)\n",
    "\n",
    "    if test_occurred == 'Y':\n",
    "        # Set datetime\n",
    "        create_data_property(test, \"ResultOfFirstSARSCoV2Test\", \"http://www.w3.org/2001/XMLSchema#string\", random_value=PNUE)\n",
    "        first_datetime = random_date_between(datetime(2021,7,1,0,0,0, tzinfo=pytz.timezone('US/Eastern')), \n",
    "                                             datetime(2021,7,10,23,59,59,tzinfo=pytz.timezone('US/Eastern')))\n",
    "        first_datetime_iso = first_datetime.isoformat()\n",
    "\n",
    "        # Set data property\n",
    "        create_data_property(test, \"DateOfFirstSARSCoV2Test\", \"http://www.w3.org/2001/XMLSchema#dateTime\", value=first_datetime_iso)\n",
    "\n",
    "        # Set datetime\n",
    "        last_test_occurred = random.choice(YN)\n",
    "        if last_test_occurred == 'Y':\n",
    "            create_data_property(test, \"ResultOfLastSARSCoV2Test\", \"http://www.w3.org/2001/XMLSchema#string\", random_value=PNUE)\n",
    "            last_datetime = random_date_between(\n",
    "                datetime(2021,7,first_datetime.day+14,0,0,0,tzinfo=pytz.timezone('US/Eastern')),\n",
    "                datetime(2021,7,31,23,59,59,tzinfo=pytz.timezone('US/Eastern')))\n",
    "            last_datetime_iso = last_datetime.isoformat()\n",
    "\n",
    "            # Set data property\n",
    "            create_data_property(test, \"DateOfLastSARSCoV2Test\", \"http://www.w3.org/2001/XMLSchema#dateTime\", value=last_datetime_iso)"
   ]
  },
  {
   "cell_type": "markdown",
   "id": "f6359269",
   "metadata": {},
   "source": [
    "## DataElements > RiskFactors"
   ]
  },
  {
   "cell_type": "code",
   "execution_count": 11,
   "id": "414069a8",
   "metadata": {},
   "outputs": [],
   "source": [
    "def create_risk_factors(root, id_):\n",
    "    risk_factors = create_individual(root, f\"RiskFactors_{id_:07}\", \"RiskFactors\")\n",
    "\n",
    "    congregate = random.choice(YNUR)\n",
    "    create_data_property(risk_factors, \"Congregate\", \"http://www.w3.org/2001/XMLSchema#string\", value=congregate)\n",
    "    if congregate == 'Y':\n",
    "        create_data_property(risk_factors, \"CongregateSetting\", \"http://www.w3.org/2001/XMLSchema#string\", random_value=CONGREGATE)\n",
    "\n",
    "    create_data_property(risk_factors, \"ContactWithConfirmedCovidCase\", \"http://www.w3.org/2001/XMLSchema#string\", random_value=YNUR)\n",
    "    create_data_property(risk_factors, \"Employed\", \"http://www.w3.org/2001/XMLSchema#string\", random_value=EMPLOYED)\n",
    "\n",
    "    hcp = random.choice(YNUR)\n",
    "    create_data_property(risk_factors, \"HCP\", \"http://www.w3.org/2001/XMLSchema#string\", value=hcp)\n",
    "    if hcp == 'Y':\n",
    "        create_data_property(risk_factors, \"HCPSetting\", \"http://www.w3.org/2001/XMLSchema#string\", random_value=HCP)"
   ]
  },
  {
   "cell_type": "markdown",
   "id": "3bdce475",
   "metadata": {},
   "source": [
    "## DateElements > PreExistingConditions"
   ]
  },
  {
   "cell_type": "code",
   "execution_count": 12,
   "id": "4f120c72",
   "metadata": {},
   "outputs": [],
   "source": [
    "def create_pre_existing_conditions(root, id_, gender=None):\n",
    "    pre = create_individual(root, f\"PreExistingConditions_{id_:07}\", \"PreExistingConditions\")\n",
    "    create_data_property(pre, \"ChronicLiverDisease\", \"http://www.w3.org/2001/XMLSchema#string\", random_value=YNPR)\n",
    "    create_data_property(pre, \"ChronicLungDisease\", \"http://www.w3.org/2001/XMLSchema#string\", random_value=YNPR)\n",
    "    create_data_property(pre, \"ChronicRenalDisease\", \"http://www.w3.org/2001/XMLSchema#string\", random_value=YNPR)\n",
    "    create_data_property(pre, \"CVD\", \"http://www.w3.org/2001/XMLSchema#string\", random_value=YNPR)\n",
    "    create_data_property(pre, \"Diabetes\", \"http://www.w3.org/2001/XMLSchema#string\", random_value=YNPR)\n",
    "    create_data_property(pre, \"Immunocompromised\", \"http://www.w3.org/2001/XMLSchema#string\", random_value=YNPR)\n",
    "    \n",
    "    if gender == 'F':\n",
    "        create_data_property(pre, \"Pregnant\", \"http://www.w3.org/2001/XMLSchema#string\", random_value=YNPR) ### ONLY FEMALE ###\n",
    "    else:\n",
    "        create_data_property(pre, \"Pregnant\", \"http://www.w3.org/2001/XMLSchema#string\", value='N')\n",
    "        \n",
    "    create_data_property(pre, \"SevereObesity\", \"http://www.w3.org/2001/XMLSchema#string\", random_value=YNPR)"
   ]
  },
  {
   "cell_type": "markdown",
   "id": "5fdf41da",
   "metadata": {},
   "source": [
    "## DataElements > Interview"
   ]
  },
  {
   "cell_type": "code",
   "execution_count": 13,
   "id": "3a8a3e90",
   "metadata": {},
   "outputs": [],
   "source": [
    "def create_interview(root, id_):\n",
    "    interview = create_individual(root, f\"Interview_{id_:07}\", \"Interview\")\n",
    "\n",
    "    first_datetime = random_date_between(\n",
    "        datetime(2021,7,15,0,0,0, tzinfo=pytz.timezone('US/Eastern')), \n",
    "        datetime(2021,7,20,23,59,59,tzinfo=pytz.timezone('US/Eastern')))\n",
    "\n",
    "    second_datetime = random_date_between(\n",
    "        datetime(2021,7,first_datetime.day+3,0,0,0,tzinfo=pytz.timezone('US/Eastern')),\n",
    "        datetime(2021,7,25,23,59,59,tzinfo=pytz.timezone('US/Eastern')))\n",
    "\n",
    "    third_datetime = random_date_between(\n",
    "        datetime(2021,7,second_datetime.day+3,0,0,0,tzinfo=pytz.timezone('US/Eastern')),\n",
    "        datetime(2021,7,31,23,59,59,tzinfo=pytz.timezone('US/Eastern')))\n",
    "\n",
    "    create_data_property(interview, \"Interview_1_Occurred\", \"http://www.w3.org/2001/XMLSchema#string\", random_value=YNPR)\n",
    "    create_data_property(interview, \"Interview_2_Occurred\", \"http://www.w3.org/2001/XMLSchema#string\", random_value=YNPR)\n",
    "    create_data_property(interview, \"Interview_3_Occurred\", \"http://www.w3.org/2001/XMLSchema#string\", random_value=YNPR)\n",
    "\n",
    "    create_data_property(interview, \"DateOfInterviewAttempt_1\", \"http://www.w3.org/2001/XMLSchema#dateTime\", \n",
    "                         value=first_datetime.isoformat())\n",
    "    create_data_property(interview, \"DateOfInterviewAttempt_2\", \"http://www.w3.org/2001/XMLSchema#dateTime\", \n",
    "                         value=second_datetime.isoformat())\n",
    "    create_data_property(interview, \"DateOfInterviewAttempt_3\", \"http://www.w3.org/2001/XMLSchema#dateTime\", \n",
    "                         value=third_datetime.isoformat())"
   ]
  },
  {
   "cell_type": "markdown",
   "id": "8d4d008a",
   "metadata": {},
   "source": [
    "## DataElement > ContactTracing"
   ]
  },
  {
   "cell_type": "code",
   "execution_count": 14,
   "id": "eb6c3825",
   "metadata": {},
   "outputs": [],
   "source": [
    "def create_contact_tracing(root, id_):\n",
    "    contact = create_individual(root, f\"ContactTracing_{id_:07}\", \"ContactTracing\")\n",
    "\n",
    "    household = random.choice(YNUR)\n",
    "    create_data_property(contact, \"AnyHouseholdContact\", \"http://www.w3.org/2001/XMLSchema#string\", value=household)\n",
    "    if household == 'Y':\n",
    "        create_data_property(contact, \"TotalNumberOfHouseholdContacts\", \"http://www.w3.org/2001/XMLSchema#int\", random_value=\"123456789\")\n",
    "    else:\n",
    "        create_data_property(contact, \"TotalNumberOfHouseholdContacts\", \"http://www.w3.org/2001/XMLSchema#int\", value=\"0\")\n",
    "\n",
    "    create_data_property(contact, \"CanSelfIsolate\", \"http://www.w3.org/2001/XMLSchema#string\", random_value=YNUR)\n",
    "    create_data_property(contact, \"NeedAssistanceToSelfIsolate\", \"http://www.w3.org/2001/XMLSchema#string\", random_value=YNUR)\n",
    "\n",
    "    intimate = random.choice(YNUR)\n",
    "    create_data_property(contact, \"AnyIntimatePartners\", \"http://www.w3.org/2001/XMLSchema#string\", random_value=YNUR)\n",
    "    if intimate == 'Y':\n",
    "        create_data_property(contact, \"TotalNumberOfIntimatePartners\", \"http://www.w3.org/2001/XMLSchema#int\", random_value=\"123456789\")\n",
    "    else:\n",
    "        create_data_property(contact, \"TotalNumberOfIntimatePartners\", \"http://www.w3.org/2001/XMLSchema#int\", random_value=\"0\")\n",
    "\n",
    "    create_data_property(contact, \"AnyOtherCloseContact\", \"http://www.w3.org/2001/XMLSchema#string\", random_value=YNUR)"
   ]
  },
  {
   "cell_type": "markdown",
   "id": "d474f5ca",
   "metadata": {},
   "source": [
    "## DataElements > LocatingInformation"
   ]
  },
  {
   "cell_type": "code",
   "execution_count": 15,
   "id": "753ce369",
   "metadata": {},
   "outputs": [],
   "source": [
    "def create_locating_information(root, id_):\n",
    "    Faker.seed(datetime.now())\n",
    "    fake = Faker()\n",
    "\n",
    "    locating = create_individual(root, f\"LocatingInformation_{id_:07}\", \"LocatingInformation\")\n",
    "\n",
    "    create_data_property(locating, \"BornInTheUnitedStates\", \"http://www.w3.org/2001/XMLSchema#string\", random_value=YNUR)\n",
    "    create_data_property(locating, \"CityOfResidence\", \"http://www.w3.org/2001/XMLSchema#string\", value=fake.city())\n",
    "    create_data_property(locating, \"DOB\", \"http://www.w3.org/2001/XMLSchema#dateTime\",\n",
    "                         value = datetime.combine(fake.date_of_birth(), datetime.min.time()).isoformat())\n",
    "    create_data_property(locating, \"Email_1\", \"http://www.w3.org/2001/XMLSchema#string\", value=fake.free_email())\n",
    "    create_data_property(locating, \"Email_2\", \"http://www.w3.org/2001/XMLSchema#string\", value=fake.free_email())\n",
    "    create_data_property(locating, \"Ethnicity\", \"http://www.w3.org/2001/XMLSchema#string\", random_value=ETHNICITY)\n",
    "    create_data_property(locating, \"FirstName\", \"http://www.w3.org/2001/XMLSchema#string\", value=fake.first_name())\n",
    "    create_data_property(locating, \"LastName\", \"http://www.w3.org/2001/XMLSchema#string\", value=fake.last_name())\n",
    "    \n",
    "    gender = random.choice(GENDER)\n",
    "    create_data_property(locating, \"Gender\", \"http://www.w3.org/2001/XMLSchema#string\", value=gender)\n",
    "    \n",
    "    create_data_property(locating, \"InterpreterUsed\", \"http://www.w3.org/2001/XMLSchema#string\", random_value=YNUR)\n",
    "    create_data_property(locating, \"OkToEmail\", \"http://www.w3.org/2001/XMLSchema#string\", random_value=YNUR)\n",
    "    create_data_property(locating, \"OkToText\", \"http://www.w3.org/2001/XMLSchema#string\", random_value=YNPR)\n",
    "    create_data_property(locating, \"PhoneNumber_1\", \"http://www.w3.org/2001/XMLSchema#string\", value=fake.phone_number())\n",
    "    create_data_property(locating, \"PhoneNumber_2\", \"http://www.w3.org/2001/XMLSchema#string\", value=fake.phone_number())\n",
    "    create_data_property(locating, \"PrimaryLanguage\", \"http://www.w3.org/2001/XMLSchema#string\", random_value=LANGUAGE)\n",
    "    create_data_property(locating, \"Race\", \"http://www.w3.org/2001/XMLSchema#string\", random_value=RACE)\n",
    "    create_data_property(locating, \"ResidentialStreetAddress\", \"http://www.w3.org/2001/XMLSchema#string\", value=fake.street_address())\n",
    "    create_data_property(locating, \"StateOfResidence\", \"http://www.w3.org/2001/XMLSchema#string\", value=fake.state_abbr())\n",
    "    create_data_property(locating, \"ZipCode\", \"http://www.w3.org/2001/XMLSchema#int\", value=fake.zipcode_in_state())\n",
    "    \n",
    "    return gender"
   ]
  },
  {
   "cell_type": "markdown",
   "id": "c22f5e9d",
   "metadata": {},
   "source": [
    "## Investigator"
   ]
  },
  {
   "cell_type": "code",
   "execution_count": 16,
   "id": "d883c24f",
   "metadata": {},
   "outputs": [],
   "source": [
    "def create_investigator(root, id_):\n",
    "    investigator = create_individual(root, f\"Investigator_{id_}\", \"Investigator\")\n",
    "    # Organization -> identity trust\n",
    "    # Role -> identity trust\n",
    "    # behavioral trust\n",
    "    "
   ]
  },
  {
   "cell_type": "markdown",
   "id": "ad70fd8d",
   "metadata": {},
   "source": [
    "## Connection to Investigation"
   ]
  },
  {
   "cell_type": "code",
   "execution_count": 17,
   "id": "160a9078",
   "metadata": {},
   "outputs": [],
   "source": [
    "def connect_to_patient(root, id_):\n",
    "    #investigation = create_individual(root, f\"Investigation_{id_:07}\", \"Investigation\")\n",
    "    #Patient\n",
    "    patient = create_individual(root, f\"Patient_{id_:07}\", \"Patient\")\n",
    "    \n",
    "    # Assigned Date\n",
    "    assigned_datetime = random_date_between(datetime(2021,7,1,0,0,0, tzinfo=pytz.timezone('US/Eastern')), \n",
    "                                            datetime(2021,7,10,23,59,59,tzinfo=pytz.timezone('US/Eastern'))).isoformat()\n",
    "    create_data_property(patient, \"DateAssignedToInvestigation\", \"http://www.w3.org/2001/XMLSchema#dateTime\", assigned_datetime)\n",
    "    \n",
    "    # Connection\n",
    "    create_object_property(patient, \"hasContactTracing\", f\"ContactTracing_{id_:07}\")\n",
    "    create_object_property(patient, \"hasInterview\", f\"Interview_{id_:07}\")\n",
    "    create_object_property(patient, \"hasLocatingInformation\", f\"LocatingInformation_{id_:07}\")\n",
    "    create_object_property(patient, \"hasPreExistingConditions\", f\"PreExistingConditions_{id_:07}\")\n",
    "    create_object_property(patient, \"hasRiskFactors\", f\"RiskFactors_{id_:07}\")\n",
    "    create_object_property(patient, \"hasSARSCoV2Test\", f\"SARSCoV2Test_{id_:07}\")\n",
    "    create_object_property(patient, \"hasSymptomsAndClinicalCourse\", f\"SymptomsAndClinicalCourse_{id_:07}\")"
   ]
  },
  {
   "cell_type": "markdown",
   "id": "300c7d96",
   "metadata": {},
   "source": [
    "# Loop"
   ]
  },
  {
   "cell_type": "code",
   "execution_count": 18,
   "id": "3bb544f3",
   "metadata": {},
   "outputs": [],
   "source": [
    "def populate_data(i):\n",
    "    root = tree.getroot()\n",
    "    create_interview(root,i)\n",
    "    create_risk_factors(root,i)\n",
    "    create_sars_cov2_test(root,i)\n",
    "    create_contact_tracing(root, i)\n",
    "    create_symptoms_and_clinical_course(root,i)\n",
    "    gender = create_locating_information(root,i)\n",
    "    create_pre_existing_conditions(root,i,gender=gender)\n",
    "    connect_to_patient(root,i)\n",
    "    #return root"
   ]
  },
  {
   "cell_type": "code",
   "execution_count": 19,
   "id": "0534b914",
   "metadata": {},
   "outputs": [],
   "source": [
    "#tree = etree.parse(\"base/contact_tracing_base_v5_without_user.owl\")\n",
    "#root = tree.getroot()\n",
    "#for i in trange(100):\n",
    "#    populate_data(i)\n",
    "#    if i%10000 == 0:\n",
    "#        tree.write(f\"population_{i}.owl\", pretty_print=True)"
   ]
  },
  {
   "cell_type": "code",
   "execution_count": 20,
   "id": "c0db0fda",
   "metadata": {},
   "outputs": [
    {
     "name": "stderr",
     "output_type": "stream",
     "text": [
      "100%|██████████| 1000000/1000000 [26:54:54<00:00, 10.32it/s]   \n"
     ]
    }
   ],
   "source": [
    "size = 1000000\n",
    "partition = 50000\n",
    "tree = etree.parse(\"base/contact_tracing_base_v5_without_user.owl\")\n",
    "root = tree.getroot()\n",
    "for i in trange(size):\n",
    "    populate_data(i)\n",
    "    if i != 0 and (i+1)%partition == 0:\n",
    "        tree.write(f\"population_{int((i+1)/partition)}.owl\", pretty_print=True)\n",
    "        tree = etree.parse(\"base/contact_tracing_base_v5_without_user.owl\")\n",
    "        root = tree.getroot()\n",
    "        gc.collect()"
   ]
  }
 ],
 "metadata": {
  "kernelspec": {
   "display_name": "Python 3 (ipykernel)",
   "language": "python",
   "name": "python3"
  },
  "language_info": {
   "codemirror_mode": {
    "name": "ipython",
    "version": 3
   },
   "file_extension": ".py",
   "mimetype": "text/x-python",
   "name": "python",
   "nbconvert_exporter": "python",
   "pygments_lexer": "ipython3",
   "version": "3.9.7"
  }
 },
 "nbformat": 4,
 "nbformat_minor": 5
}
